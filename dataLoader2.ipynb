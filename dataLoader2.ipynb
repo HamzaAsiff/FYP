{
 "cells": [
  {
   "cell_type": "markdown",
   "metadata": {},
   "source": [
    "### Libraries & Dependecies"
   ]
  },
  {
   "cell_type": "code",
   "execution_count": 1,
   "metadata": {},
   "outputs": [],
   "source": [
    "import os\n",
    "import pandas as pd\n",
    "import numpy as np\n",
    "import matplotlib.pyplot as plt\n",
    "from PIL import Image\n",
    "import torch\n",
    "import torchvision\n",
    "import torch.nn as nn\n",
    "import torch.nn.functional as F\n",
    "from torch.autograd import Variable\n",
    "from torchvision import transforms\n",
    "from torch.utils.data import Dataset, DataLoader\n",
    "from sklearn.model_selection import train_test_split"
   ]
  },
  {
   "cell_type": "markdown",
   "metadata": {},
   "source": [
    "### Load CSV File"
   ]
  },
  {
   "cell_type": "code",
   "execution_count": 2,
   "metadata": {},
   "outputs": [
    {
     "name": "stdout",
     "output_type": "stream",
     "text": [
      "C:\\Users\\Hamza Asif\\Desktop\\Coding\\FYP\n"
     ]
    }
   ],
   "source": [
    "print(os.getcwd())\n",
    "\n",
    "#Read CSV File\n",
    "df = pd.read_csv('myCSV.csv')\n",
    "#Get CSV File Length\n",
    "dfLen = len(df.index)+1\n",
    "\n",
    "#TensorArr\n",
    "tensorArr = []\n",
    "\n",
    "#empty Stack tensor\n",
    "#stackTensor = torch.empty(2,3)"
   ]
  },
  {
   "cell_type": "markdown",
   "metadata": {},
   "source": [
    "### Get Image Label, Frames, Path"
   ]
  },
  {
   "cell_type": "code",
   "execution_count": 3,
   "metadata": {},
   "outputs": [],
   "source": [
    "#Get Img Labels\n",
    "imglblList = []\n",
    "for column in df[['Image_Label']]:\n",
    "    imglbl = df[column]\n",
    "#    print('Colunm Name : ', column)\n",
    "#    print('Column Contents : \\n', imglbl.values)\n",
    "for i in imglbl.values:\n",
    "    imglblList.append(i)\n",
    "\n",
    "#Get Img Frames    \n",
    "imgFramesList = []\n",
    "for column in df[['Image_Frames']]:\n",
    "    imgFrames = df[column]\n",
    "#    print('Colunm Name : ', column)\n",
    "#    print('Column Contents : \\n', imgFrames.values)\n",
    "for i in imgFrames.values:\n",
    "    imgFramesList.append(i)\n",
    "    \n",
    "#Get Img Path\n",
    "imgPathList = []\n",
    "for column in df[['Image_Path']]:\n",
    "    imgPath = df[column]\n",
    "#    print('Colunm Name : ', column)\n",
    "#    print('Column Contents : \\n', imgPath.values)\n",
    "for i in imgPath.values:\n",
    "    imgPathList.append(i)\n",
    "\n",
    "X = df.Image_Path.values\n",
    "y = df.Image_Label.values\n",
    "\n",
    "(xtrain, xtest, ytrain, ytest) = (train_test_split(X, y, \n",
    "                                test_size=0.25, random_state=42))"
   ]
  },
  {
   "cell_type": "markdown",
   "metadata": {},
   "source": [
    "### Custom DataLoading Class "
   ]
  },
  {
   "cell_type": "code",
   "execution_count": 6,
   "metadata": {},
   "outputs": [],
   "source": [
    "class signData(Dataset):\n",
    "    def __init__(self, transform = None):\n",
    "        if transform == 1:\n",
    "            self.transform = transforms.Compose([transforms.Grayscale(num_output_channels=1), transforms.ToTensor(),\n",
    "                                                 transforms.Normalize(mean=[0.5], std=[0.5])])\n",
    "        \n",
    "    def __len__(self):\n",
    "        return len(self.X)\n",
    "\n",
    "    def __getitem__(self, imglbl, imgPath, imgFrames):\n",
    "        self.X = imglbl\n",
    "        self.y = imgPath\n",
    "        self.z = imgFrames\n",
    "        #print(self.y)\n",
    "        imgDir = os.chdir(self.y)\n",
    "        #print(os.getcwd())\n",
    "        #stackArr counter\n",
    "        #counter = 0\n",
    "        #print(imgFramesList[self.counter])\n",
    "#        '''\n",
    "        #tensorArr = []\n",
    "        for x in range(imgFrames+1):\n",
    "            image = Image.open('frame'+str(x)+'.jpg')\n",
    "            new_image = image.resize((400, 400))\n",
    "            #image = np.array(image)\n",
    "            new_image2 = self.transform(new_image)\n",
    "            #print(type(image))\n",
    "            #print(\"Frame\"+str(x))\n",
    "            tensorArr.append(new_image2)\n",
    "            label = self.X\n",
    "        return tensorArr, new_image2, label\n",
    "#        '''"
   ]
  },
  {
   "cell_type": "markdown",
   "metadata": {},
   "source": [
    "### Get Image Details and Intialise SignData Class to load the Data"
   ]
  },
  {
   "cell_type": "code",
   "execution_count": 11,
   "metadata": {
    "scrolled": true
   },
   "outputs": [
    {
     "name": "stderr",
     "output_type": "stream",
     "text": [
      "\n",
      "KeyboardInterrupt\n",
      "\n"
     ]
    }
   ],
   "source": [
    "#Intialise signData class\n",
    "#train_data = signData(xtrain, ytrain, transform = 1)\n",
    "#test_data = signData(xtest, ytest, transform = 1)\n",
    "tensorList = []\n",
    "labelList = []\n",
    "for i in range(dfLen-1):\n",
    "    #print(imglblList[i],imgPathList[i])\n",
    "    data = signData(transform=1)\n",
    "    data.__getitem__(imglblList[i], imgPathList[i], imgFramesList[i])\n",
    "    #print(\"Sample '\"+str(imglblList[i])+\"' done\")\n",
    "    stackTensor = torch.stack(tensorArr)\n",
    "    tensorList.append(stackTensor)\n",
    "    labelList.append(data.X)\n",
    "\n",
    "#print(stackTensor)\n",
    "#print(stackTensor.shape)\n",
    "#print(tensorList)\n",
    "#print(len(tensorList[0]))\n",
    "#print(tensorList[0])\n",
    "#print(len(labelList))\n",
    "#print(labelList[0])\n",
    "\n",
    "\n",
    "\n",
    "#Intialise DataLoader class\n",
    "combList = []\n",
    "for i in range(len(labelList)):\n",
    "    combList.append([tensorList[i],labelList[i]])\n",
    "\n",
    "#print(combList[0])\n",
    "#Give 2 zeros to access Tensors\n",
    "#print(combList[0][0])\n",
    "#print(combList[0][1])    \n",
    "\n",
    "train_loader = torch.utils.data.DataLoader(combList[0][0], batch_size=5, shuffle=False)\n",
    "#testloader = torch.utils.data.DataLoader(combList, batch_size=32, shuffle=False)\n"
   ]
  }
 ],
 "metadata": {
  "kernelspec": {
   "display_name": "Python 3",
   "language": "python",
   "name": "python3"
  },
  "language_info": {
   "codemirror_mode": {
    "name": "ipython",
    "version": 3
   },
   "file_extension": ".py",
   "mimetype": "text/x-python",
   "name": "python",
   "nbconvert_exporter": "python",
   "pygments_lexer": "ipython3",
   "version": "3.8.3"
  }
 },
 "nbformat": 4,
 "nbformat_minor": 4
}
