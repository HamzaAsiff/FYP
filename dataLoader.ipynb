{
 "cells": [
  {
   "cell_type": "code",
   "execution_count": 2,
   "metadata": {},
   "outputs": [],
   "source": [
    "import os\n",
    "import pandas as pd\n",
    "import numpy as np\n",
    "import matplotlib.pyplot as plt\n",
    "from PIL import Image\n",
    "import torch\n",
    "import torchvision\n",
    "import torch.nn as nn\n",
    "import torch.nn.functional as F\n",
    "from torch.autograd import Variable\n",
    "from torchvision import transforms\n",
    "from torch.utils.data import Dataset, DataLoader\n",
    "from sklearn.model_selection import train_test_split\n"
   ]
  },
  {
   "cell_type": "code",
   "execution_count": 3,
   "metadata": {},
   "outputs": [],
   "source": [
    "df = pd.read_csv('myCSV.csv')\n",
    "X = df.Image_Path.values\n",
    "y = df.Image_Label.values"
   ]
  },
  {
   "cell_type": "code",
   "execution_count": 4,
   "metadata": {},
   "outputs": [],
   "source": [
    "(xtrain, xtest, ytrain, ytest) = (train_test_split(X, y, \n",
    "                                test_size=0.25, random_state=42))"
   ]
  },
  {
   "cell_type": "code",
   "execution_count": 5,
   "metadata": {},
   "outputs": [],
   "source": [
    "#LOOP to identify which sample in the CSV you're currently on\n",
    "#LOOP to check what frame of the smaple in the CSV you're currently on\n",
    "#After every sample itertaion Loop counters will be returned to zero\n",
    "\n",
    "class signData(Dataset):\n",
    "    def __init__(self, imglbl, imgPath, transform = None):\n",
    "        self.X = imglbl\n",
    "        self.y = imgPath\n",
    "        if transform == 1:\n",
    "            self.transform = transforms.Compose([transforms.Grayscale(num_output_channels=1), transforms.ToTensor(),\n",
    "                                                 transforms.Normalize(mean=[0.5], std=[0.5])])\n",
    "        \n",
    "    def __len__(self):\n",
    "        return len(self.X)\n",
    "    \n",
    "    def __getitem__(self, idx):\n",
    "        image = Image.open(self.X[i])\n",
    "        image = self.transform(image=np.array(image))\n",
    "        label = self.y[i]\n",
    "        \n",
    "        return image, torch.tensor(label, dtype = torch.long)\n",
    "\n",
    "train_data = signData(xtrain, ytrain, transform = 1)\n",
    "test_data = signData(xtest, ytest, transform = 1)\n",
    "\n",
    "train_loader = DataLoader(train_data, batch_size=32, shuffle=False)\n",
    "testloader = DataLoader(test_data, batch_size=32, shuffle=False)"
   ]
  }
 ],
 "metadata": {
  "kernelspec": {
   "display_name": "Python 3",
   "language": "python",
   "name": "python3"
  },
  "language_info": {
   "codemirror_mode": {
    "name": "ipython",
    "version": 3
   },
   "file_extension": ".py",
   "mimetype": "text/x-python",
   "name": "python",
   "nbconvert_exporter": "python",
   "pygments_lexer": "ipython3",
   "version": "3.8.3"
  }
 },
 "nbformat": 4,
 "nbformat_minor": 4
}
